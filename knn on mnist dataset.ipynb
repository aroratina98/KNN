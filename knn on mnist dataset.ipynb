{
 "cells": [
  {
   "cell_type": "code",
   "execution_count": 1,
   "metadata": {},
   "outputs": [],
   "source": [
    "import pandas as pd\n",
    "import numpy as np\n",
    "import matplotlib.pyplot as plt"
   ]
  },
  {
   "cell_type": "code",
   "execution_count": 2,
   "metadata": {},
   "outputs": [
    {
     "name": "stdout",
     "output_type": "stream",
     "text": [
      "(19999, 785)\n"
     ]
    }
   ],
   "source": [
    "trainfile=pd.read_csv(\"../Pictures/train (copy).csv\")\n",
    "testfile=pd.read_csv(\"../Pictures/test (copy).csv\")\n",
    "x=trainfile.values\n",
    "# x_test=testfile.values\n",
    "print(x.shape)"
   ]
  },
  {
   "cell_type": "code",
   "execution_count": 3,
   "metadata": {},
   "outputs": [
    {
     "name": "stdout",
     "output_type": "stream",
     "text": [
      "(14000, 784) (14000,) 14000 784 (5999, 784) (5999,)\n",
      "(array([0]), array([14000]))\n"
     ]
    }
   ],
   "source": [
    "# print(x_test[:20,:5])\n",
    "x_train=x[:14000,1:]\n",
    "y_train=x[:14000,0]\n",
    "x_test=x[14000:,1:]\n",
    "y_test=x[14000:,0]\n",
    "m=x_train.shape[0]\n",
    "n=x_train.shape[1]\n",
    "print(x_train.shape,y_train.shape,m,n,x_test.shape,y_test.shape)\n",
    "print(np.unique(y_train,return_counts=True))"
   ]
  },
  {
   "cell_type": "code",
   "execution_count": 4,
   "metadata": {},
   "outputs": [],
   "source": [
    "def drawimg(x):\n",
    "    img=x.reshape((28,28))\n",
    "    plt.imshow(img,cmap='gray')\n",
    "    "
   ]
  },
  {
   "cell_type": "code",
   "execution_count": 5,
   "metadata": {},
   "outputs": [],
   "source": [
    "def dist(x1,x2):\n",
    "    return np.sqrt(((x1-x2)**2).sum())\n",
    "\n",
    "def knn(x,y,query_point,k=10):\n",
    "    dist_list=[]\n",
    "    \n",
    "    for i in range(m):\n",
    "        d=dist(query_point,x[i])\n",
    "        dist_list.append((d,y_train[i]))\n",
    "    \n",
    "    dist_list=sorted(dist_list)\n",
    "    dist_list=dist_list[:k]\n",
    "    \n",
    "    val=np.array(dist_list)\n",
    "    t=np.unique(val[:,1],return_counts=True)\n",
    "    index=t[1].argmax()\n",
    "    pred=t[0][index]\n",
    "    return pred"
   ]
  },
  {
   "cell_type": "code",
   "execution_count": 12,
   "metadata": {},
   "outputs": [],
   "source": [
    "query_x=x_test[0]\n",
    "query_y=y_test[0]\n",
    "prediction=knn(x_train,y_train,query_x)"
   ]
  },
  {
   "cell_type": "code",
   "execution_count": 13,
   "metadata": {},
   "outputs": [
    {
     "name": "stdout",
     "output_type": "stream",
     "text": [
      "0\n",
      "0\n"
     ]
    },
    {
     "data": {
      "image/png": "[encoded data removed]",
      "text/plain": [
       "<matplotlib.figure.Figure at 0x7fdd4d035c88>"
      ]
     },
     "metadata": {},
     "output_type": "display_data"
    }
   ],
   "source": [
    "print(int(prediction))\n",
    "drawimg(query_x)\n",
    "print(query_y)"
   ]
  },
  {
   "cell_type": "code",
   "execution_count": 14,
   "metadata": {},
   "outputs": [
    {
     "name": "stdout",
     "output_type": "stream",
     "text": [
      "1.0\n"
     ]
    }
   ],
   "source": [
    "cnt = 0\n",
    "for i in range(100):\n",
    "    pred = knn(x_train,y_train,x_test[i])\n",
    "    if(int(pred)==y_test[i]):\n",
    "        cnt +=1\n",
    "        \n",
    "print(cnt/100)"
   ]
  },
  {
   "cell_type": "code",
   "execution_count": null,
   "metadata": {},
   "outputs": [],
   "source": []
  }
 ],
 "metadata": {
  "kernelspec": {
   "display_name": "Python 3",
   "language": "python",
   "name": "python3"
  },
  "language_info": {
   "codemirror_mode": {
    "name": "ipython",
    "version": 3
   },
   "file_extension": ".py",
   "mimetype": "text/x-python",
   "name": "python",
   "nbconvert_exporter": "python",
   "pygments_lexer": "ipython3",
   "version": "3.6.5"
  }
 },
 "nbformat": 4,
 "nbformat_minor": 2
}
